{
 "cells": [
  {
   "cell_type": "code",
   "execution_count": 3,
   "id": "061e910e",
   "metadata": {},
   "outputs": [
    {
     "name": "stderr",
     "output_type": "stream",
     "text": [
      "\u001b[32m\u001b[1m  Activating\u001b[22m\u001b[39m project at `c:\\Users\\ulric\\Projet_MTH8211\\Phase2_projet`\n",
      "\u001b[32m\u001b[1m   Resolving\u001b[22m\u001b[39m package versions...\n",
      "\u001b[32m\u001b[1m  No Changes\u001b[22m\u001b[39m to `C:\\Users\\ulric\\Projet_MTH8211\\Phase2_projet\\Project.toml`\n",
      "\u001b[32m\u001b[1m  No Changes\u001b[22m\u001b[39m to `C:\\Users\\ulric\\Projet_MTH8211\\Phase2_projet\\Manifest.toml`\n"
     ]
    }
   ],
   "source": [
    "using Pkg\n",
    "Pkg.activate(\"Phase2_projet\")\n",
    "Pkg.add([\"LinearAlgebra\", \"SparseArrays\", \"Krylov\", \"BenchmarkTools\", \"SuiteSparseMatrixCollection\", \"MatrixMarket\"])\n",
    "using LinearAlgebra, SparseArrays, Krylov, BenchmarkTools, SuiteSparseMatrixCollection, MatrixMarket, Random"
   ]
  },
  {
   "cell_type": "code",
   "execution_count": 4,
   "id": "11e103e2",
   "metadata": {},
   "outputs": [
    {
     "name": "stdout",
     "output_type": "stream",
     "text": [
      "Nombre de threads actuellement activés : 1\n"
     ]
    }
   ],
   "source": [
    "println(\"Nombre de threads actuellement activés : \", Threads.nthreads())"
   ]
  },
  {
   "cell_type": "code",
   "execution_count": 5,
   "id": "7787c945",
   "metadata": {},
   "outputs": [
    {
     "data": {
      "text/plain": [
       "badly_conditioned_rectangular_matrix (generic function with 1 method)"
      ]
     },
     "execution_count": 5,
     "metadata": {},
     "output_type": "execute_result"
    }
   ],
   "source": [
    "function badly_conditioned_rectangular_matrix(m, n, kappa)\n",
    "    U, _ = qr(randn(m, n))\n",
    "    V, _ = qr(randn(n, n))\n",
    "    s = range(1.0, 1.0/kappa, length=n)\n",
    "    S = Diagonal(s)\n",
    "    A = U * S * V'\n",
    "    return Matrix(A)\n",
    "end"
   ]
  },
  {
   "cell_type": "code",
   "execution_count": 6,
   "id": "d20b4878",
   "metadata": {},
   "outputs": [
    {
     "data": {
      "text/plain": [
       "badly_conditioned_underdetermined_matrix (generic function with 1 method)"
      ]
     },
     "execution_count": 6,
     "metadata": {},
     "output_type": "execute_result"
    }
   ],
   "source": [
    "function badly_conditioned_underdetermined_matrix(m, n, kappa)\n",
    "    U, _ = qr(randn(n, m))\n",
    "    V, _ = qr(randn(m, m))\n",
    "    s = range(1.0, 1.0 / kappa, length=m)\n",
    "    S = Diagonal(s)\n",
    "    A_tall = U * S * V'\n",
    "    return Matrix(A_tall')[1:m, 1:n]\n",
    "end"
   ]
  },
  {
   "cell_type": "code",
   "execution_count": 7,
   "id": "a97012f8",
   "metadata": {},
   "outputs": [
    {
     "data": {
      "text/plain": [
       "lsrn_lsqr (generic function with 1 method)"
      ]
     },
     "execution_count": 7,
     "metadata": {},
     "output_type": "execute_result"
    }
   ],
   "source": [
    "function lsrn_lsqr(A, b; gamma=2.0, tol=1e-10, itmax=2000)\n",
    "    m, n = size(A)\n",
    "    s = ceil(Int, gamma * n) \n",
    "\n",
    "    G = randn(s, m)\n",
    "\n",
    "    Ã = G * A\n",
    "\n",
    "    Ũ, Σ̃, Ṽ = svd(Ã; full=false)\n",
    "    r = sum(Σ̃.> 1e-12)\n",
    "\n",
    "    Σinv = Diagonal(1.0 ./ Σ̃[1:r])\n",
    "    V_r = Ṽ[:,1:r]\n",
    "    N = V_r * Σinv\n",
    "\n",
    "    AN = A * N\n",
    "    ŷ, histo = lsqr(AN, b; atol=tol, btol=tol, itmax=itmax, history=true)\n",
    "\n",
    "    x̂ = N * ŷ\n",
    "    return x̂, histo\n",
    "end"
   ]
  },
  {
   "cell_type": "code",
   "execution_count": 8,
   "id": "a42d0aa3",
   "metadata": {},
   "outputs": [
    {
     "data": {
      "text/plain": [
       "lsrn_lsqr_underdetermined (generic function with 1 method)"
      ]
     },
     "execution_count": 8,
     "metadata": {},
     "output_type": "execute_result"
    }
   ],
   "source": [
    "function lsrn_lsqr_underdetermined(A, b; gamma=2.0, tol=1e-10, itmax=2000)\n",
    "    m, n = size(A)\n",
    "    s = ceil(Int, gamma * m)\n",
    "    G = randn(n, s)\n",
    "    Ã = A * G\n",
    "\n",
    "    Ũ, Σ̃, Ṽ = svd(Ã; full=false)\n",
    "    r = sum(Σ̃ .> 1e-12)\n",
    "    U_r = Ũ[:,1:r]\n",
    "    Σ_r = Σ̃[1:r]\n",
    "\n",
    "    Σinv = Diagonal(1.0 ./ Σ_r)\n",
    "    M = U_r * Σinv      \n",
    "\n",
    "    Mt = M'\n",
    "    At_pre = Mt * A    \n",
    "    bt_pre = Mt * b     \n",
    "\n",
    "    x̂, histo = lsqr(At_pre, bt_pre; atol=tol, btol=tol, itmax=itmax, history=true)\n",
    "\n",
    "    return x̂, histo\n",
    "end"
   ]
  },
  {
   "cell_type": "markdown",
   "id": "ce5e9d63",
   "metadata": {},
   "source": [
    "Validation du bon focntionnement de l'algo"
   ]
  },
  {
   "cell_type": "code",
   "execution_count": 35,
   "id": "7e031664",
   "metadata": {},
   "outputs": [
    {
     "data": {
      "text/plain": [
       "9.945618297179095e-14"
      ]
     },
     "execution_count": 35,
     "metadata": {},
     "output_type": "execute_result"
    }
   ],
   "source": [
    "m = 10\n",
    "n = 10\n",
    "kappa = 2\n",
    "A = badly_conditioned_rectangular_matrix(m, n, kappa)\n",
    "x = randn(n)\n",
    "b = A * x\n",
    "solve_QR(A, b) = qr(A)\\ b\n",
    "x_qr = solve_QR(A, b)\n",
    "x_lsrn_lsqr, histo = lsrn_lsqr(A, b; gamma=2.0, tol=1e-10, itmax=2000) \n",
    "norm(x_qr - x_lsrn_lsqr)"
   ]
  },
  {
   "cell_type": "markdown",
   "id": "3692d66e",
   "metadata": {},
   "source": [
    "Création d'une matrice fortement rectangulaire mal conditionnée test"
   ]
  },
  {
   "cell_type": "code",
   "execution_count": 21,
   "id": "cee31841",
   "metadata": {},
   "outputs": [
    {
     "name": "stdout",
     "output_type": "stream",
     "text": [
      "Conditionnement de A :9.999999777081144e9\n"
     ]
    }
   ],
   "source": [
    "m = 10000\n",
    "n = 1000\n",
    "kappa = 1e10\n",
    "A = badly_conditioned_rectangular_matrix(m, n, kappa)\n",
    "x = randn(n)\n",
    "b = A * x\n",
    "println(\"Conditionnement de A :\", cond(A))"
   ]
  },
  {
   "cell_type": "markdown",
   "id": "d6cbab33",
   "metadata": {},
   "source": [
    "Vérification de l'amélioration du conditionnement"
   ]
  },
  {
   "cell_type": "code",
   "execution_count": 22,
   "id": "9bee3018",
   "metadata": {},
   "outputs": [
    {
     "name": "stdout",
     "output_type": "stream",
     "text": [
      "Conditionnement de A :9.999999777081144e9\n",
      "Conditionnement de A prec :5.76888460257047\n"
     ]
    }
   ],
   "source": [
    "gamma = 2.0\n",
    "m, n = size(A)\n",
    "s = ceil(Int, gamma * n)\n",
    "G = randn(s, m)\n",
    "Ã = G * A\n",
    "Ũ, Σ̃, Ṽ = svd(Ã; full=false)\n",
    "r = sum(Σ̃.> 1e-12)\n",
    "Σinv = Diagonal(1.0 ./ Σ̃[1:r])\n",
    "V_r = Ṽ[:,1:r]\n",
    "N = V_r * Σinv\n",
    "AN = A * N\n",
    "println(\"Conditionnement de A :\", cond(A))\n",
    "println(\"Conditionnement de A prec :\", cond(AN))"
   ]
  },
  {
   "cell_type": "code",
   "execution_count": null,
   "id": "b7f95875",
   "metadata": {},
   "outputs": [],
   "source": [
    "BLAS.set_num_threads(16)\n",
    "BLAS.get_num_threads()"
   ]
  },
  {
   "cell_type": "code",
   "execution_count": 10,
   "id": "ea081191",
   "metadata": {},
   "outputs": [
    {
     "data": {
      "text/plain": [
       "BenchmarkTools.Trial: 6 samples with 1 evaluation per sample.\n",
       " Range \u001b[90m(\u001b[39m\u001b[36m\u001b[1mmin\u001b[22m\u001b[39m … \u001b[35mmax\u001b[39m\u001b[90m):  \u001b[39m\u001b[36m\u001b[1m855.905 ms\u001b[22m\u001b[39m … \u001b[35m   1.129 s\u001b[39m  \u001b[90m┊\u001b[39m GC \u001b[90m(\u001b[39mmin … max\u001b[90m): \u001b[39m2.63% … 10.34%\n",
       " Time  \u001b[90m(\u001b[39m\u001b[34m\u001b[1mmedian\u001b[22m\u001b[39m\u001b[90m):     \u001b[39m\u001b[34m\u001b[1m903.858 ms               \u001b[22m\u001b[39m\u001b[90m┊\u001b[39m GC \u001b[90m(\u001b[39mmedian\u001b[90m):    \u001b[39m2.01%\n",
       " Time  \u001b[90m(\u001b[39m\u001b[32m\u001b[1mmean\u001b[22m\u001b[39m ± \u001b[32mσ\u001b[39m\u001b[90m):   \u001b[39m\u001b[32m\u001b[1m940.774 ms\u001b[22m\u001b[39m ± \u001b[32m101.650 ms\u001b[39m  \u001b[90m┊\u001b[39m GC \u001b[90m(\u001b[39mmean ± σ\u001b[90m):  \u001b[39m3.48% ±  3.66%\n",
       "\n",
       "  \u001b[39m█\u001b[39m \u001b[39m \u001b[39m \u001b[39m█\u001b[34m█\u001b[39m\u001b[39m \u001b[39m \u001b[39m \u001b[39m \u001b[39m \u001b[39m \u001b[39m \u001b[39m \u001b[39m \u001b[39m \u001b[39m█\u001b[39m \u001b[39m \u001b[32m \u001b[39m\u001b[39m \u001b[39m \u001b[39m \u001b[39m \u001b[39m \u001b[39m \u001b[39m█\u001b[39m \u001b[39m \u001b[39m \u001b[39m \u001b[39m \u001b[39m \u001b[39m \u001b[39m \u001b[39m \u001b[39m \u001b[39m \u001b[39m \u001b[39m \u001b[39m \u001b[39m \u001b[39m \u001b[39m \u001b[39m \u001b[39m \u001b[39m \u001b[39m \u001b[39m \u001b[39m \u001b[39m \u001b[39m \u001b[39m \u001b[39m \u001b[39m \u001b[39m \u001b[39m \u001b[39m \u001b[39m \u001b[39m \u001b[39m█\u001b[39m \u001b[39m \n",
       "  \u001b[39m█\u001b[39m▁\u001b[39m▁\u001b[39m▁\u001b[39m█\u001b[34m█\u001b[39m\u001b[39m▁\u001b[39m▁\u001b[39m▁\u001b[39m▁\u001b[39m▁\u001b[39m▁\u001b[39m▁\u001b[39m▁\u001b[39m▁\u001b[39m▁\u001b[39m█\u001b[39m▁\u001b[39m▁\u001b[32m▁\u001b[39m\u001b[39m▁\u001b[39m▁\u001b[39m▁\u001b[39m▁\u001b[39m▁\u001b[39m▁\u001b[39m█\u001b[39m▁\u001b[39m▁\u001b[39m▁\u001b[39m▁\u001b[39m▁\u001b[39m▁\u001b[39m▁\u001b[39m▁\u001b[39m▁\u001b[39m▁\u001b[39m▁\u001b[39m▁\u001b[39m▁\u001b[39m▁\u001b[39m▁\u001b[39m▁\u001b[39m▁\u001b[39m▁\u001b[39m▁\u001b[39m▁\u001b[39m▁\u001b[39m▁\u001b[39m▁\u001b[39m▁\u001b[39m▁\u001b[39m▁\u001b[39m▁\u001b[39m▁\u001b[39m▁\u001b[39m▁\u001b[39m▁\u001b[39m▁\u001b[39m▁\u001b[39m█\u001b[39m \u001b[39m▁\n",
       "  856 ms\u001b[90m           Histogram: frequency by time\u001b[39m          1.13 s \u001b[0m\u001b[1m<\u001b[22m\n",
       "\n",
       " Memory estimate\u001b[90m: \u001b[39m\u001b[33m328.40 MiB\u001b[39m, allocs estimate\u001b[90m: \u001b[39m\u001b[33m79\u001b[39m."
      ]
     },
     "execution_count": 10,
     "metadata": {},
     "output_type": "execute_result"
    }
   ],
   "source": [
    "@benchmark lsrn_lsqr(A, b; gamma=2.0, tol=1e-10, itmax=2000) "
   ]
  },
  {
   "cell_type": "code",
   "execution_count": 16,
   "id": "3ccccf59",
   "metadata": {},
   "outputs": [
    {
     "data": {
      "text/plain": [
       "BenchmarkTools.Trial: 2 samples with 1 evaluation per sample.\n",
       " Range \u001b[90m(\u001b[39m\u001b[36m\u001b[1mmin\u001b[22m\u001b[39m … \u001b[35mmax\u001b[39m\u001b[90m):  \u001b[39m\u001b[36m\u001b[1m2.894 s\u001b[22m\u001b[39m … \u001b[35m  2.953 s\u001b[39m  \u001b[90m┊\u001b[39m GC \u001b[90m(\u001b[39mmin … max\u001b[90m): \u001b[39m0.00% … 0.00%\n",
       " Time  \u001b[90m(\u001b[39m\u001b[34m\u001b[1mmedian\u001b[22m\u001b[39m\u001b[90m):     \u001b[39m\u001b[34m\u001b[1m2.924 s              \u001b[22m\u001b[39m\u001b[90m┊\u001b[39m GC \u001b[90m(\u001b[39mmedian\u001b[90m):    \u001b[39m0.00%\n",
       " Time  \u001b[90m(\u001b[39m\u001b[32m\u001b[1mmean\u001b[22m\u001b[39m ± \u001b[32mσ\u001b[39m\u001b[90m):   \u001b[39m\u001b[32m\u001b[1m2.924 s\u001b[22m\u001b[39m ± \u001b[32m42.034 ms\u001b[39m  \u001b[90m┊\u001b[39m GC \u001b[90m(\u001b[39mmean ± σ\u001b[90m):  \u001b[39m0.00% ± 0.00%\n",
       "\n",
       "  \u001b[34m█\u001b[39m\u001b[39m \u001b[39m \u001b[39m \u001b[39m \u001b[39m \u001b[39m \u001b[39m \u001b[39m \u001b[39m \u001b[39m \u001b[39m \u001b[39m \u001b[39m \u001b[39m \u001b[39m \u001b[39m \u001b[39m \u001b[39m \u001b[39m \u001b[39m \u001b[39m \u001b[39m \u001b[39m \u001b[39m \u001b[39m \u001b[39m \u001b[39m \u001b[32m \u001b[39m\u001b[39m \u001b[39m \u001b[39m \u001b[39m \u001b[39m \u001b[39m \u001b[39m \u001b[39m \u001b[39m \u001b[39m \u001b[39m \u001b[39m \u001b[39m \u001b[39m \u001b[39m \u001b[39m \u001b[39m \u001b[39m \u001b[39m \u001b[39m \u001b[39m \u001b[39m \u001b[39m \u001b[39m \u001b[39m \u001b[39m \u001b[39m \u001b[39m█\u001b[39m \u001b[39m \n",
       "  \u001b[34m█\u001b[39m\u001b[39m▁\u001b[39m▁\u001b[39m▁\u001b[39m▁\u001b[39m▁\u001b[39m▁\u001b[39m▁\u001b[39m▁\u001b[39m▁\u001b[39m▁\u001b[39m▁\u001b[39m▁\u001b[39m▁\u001b[39m▁\u001b[39m▁\u001b[39m▁\u001b[39m▁\u001b[39m▁\u001b[39m▁\u001b[39m▁\u001b[39m▁\u001b[39m▁\u001b[39m▁\u001b[39m▁\u001b[39m▁\u001b[39m▁\u001b[39m▁\u001b[32m▁\u001b[39m\u001b[39m▁\u001b[39m▁\u001b[39m▁\u001b[39m▁\u001b[39m▁\u001b[39m▁\u001b[39m▁\u001b[39m▁\u001b[39m▁\u001b[39m▁\u001b[39m▁\u001b[39m▁\u001b[39m▁\u001b[39m▁\u001b[39m▁\u001b[39m▁\u001b[39m▁\u001b[39m▁\u001b[39m▁\u001b[39m▁\u001b[39m▁\u001b[39m▁\u001b[39m▁\u001b[39m▁\u001b[39m▁\u001b[39m▁\u001b[39m▁\u001b[39m█\u001b[39m \u001b[39m▁\n",
       "  2.89 s\u001b[90m         Histogram: frequency by time\u001b[39m        2.95 s \u001b[0m\u001b[1m<\u001b[22m\n",
       "\n",
       " Memory estimate\u001b[90m: \u001b[39m\u001b[33m372.52 KiB\u001b[39m, allocs estimate\u001b[90m: \u001b[39m\u001b[33m42\u001b[39m."
      ]
     },
     "execution_count": 16,
     "metadata": {},
     "output_type": "execute_result"
    }
   ],
   "source": [
    "@benchmark lsqr(A, b; atol=1e-10, btol=1e-10, itmax=2000, history=true)"
   ]
  },
  {
   "cell_type": "code",
   "execution_count": 19,
   "id": "9d2a9d60",
   "metadata": {},
   "outputs": [
    {
     "name": "stdout",
     "output_type": "stream",
     "text": [
      "\n",
      "--- LSQR sans préconditionneur ---\n",
      "Itérations LSQR (sans préc)      : 1499\n",
      "Résidu final LSQR (sans préc)    : 4.1583028761218144e-7\n",
      "\n",
      "--- LSQR avec préconditionneur LSRN ---\n",
      "Itérations LSQR (LSRN)           : 42\n",
      "Résidu final LSQR (LSRN)         : 2.224226840460454e-7\n",
      "\n",
      "--- Résumé du nombre d'itérations ---\n",
      "LSQR sans préc           : 1499\n",
      "LSQR avec préc LSRN      : 42\n"
     ]
    }
   ],
   "source": [
    "# LSQR \n",
    "println(\"\\n--- LSQR sans préconditionneur ---\")\n",
    "res1, hist1 = lsqr(A, b; atol=1e-10, btol=1e-10, itmax=2000, history=true)\n",
    "println(\"Itérations LSQR (sans préc)      : \", hist1.niter)\n",
    "println(\"Résidu final LSQR (sans préc)    : \", norm(A * res1 - b) / norm(b))\n",
    "\n",
    "#lsqr-lsrn\n",
    "println(\"\\n--- LSQR avec préconditionneur LSRN ---\")\n",
    "x_prec, hist2 = lsrn_lsqr(A, b; gamma=2.0, tol=1e-10, itmax=2000)\n",
    "println(\"Itérations LSQR (LSRN)           : \", hist2.niter)\n",
    "println(\"Résidu final LSQR (LSRN)         : \", norm(A * x_prec - b) / norm(b))\n",
    "\n",
    "println(\"\\n--- Résumé du nombre d'itérations ---\")\n",
    "println(\"LSQR sans préc           : $(hist1.niter)\")\n",
    "println(\"LSQR avec préc LSRN      : $(hist2.niter)\")\n"
   ]
  },
  {
   "cell_type": "code",
   "execution_count": 14,
   "id": "90e93955",
   "metadata": {},
   "outputs": [
    {
     "name": "stdout",
     "output_type": "stream",
     "text": [
      "Conditionnement estimé (A*A') :2.846313755985417e16\n",
      "\n",
      "--- LSQR standard (sous-déterminé) ---\n",
      "Itérations LSQR : 1366\n",
      "Résidu final LSQR : 6.811089381322153e-7\n",
      "\n",
      "--- LSRN (LSQR, sous-déterminé) ---\n",
      "Itérations LSQR (LSRN) : 43\n",
      "Résidu LSRN (LSQR) : 2.1488075681210543e-7\n",
      "\n",
      "--- Résumé du nombre d'itérations ---\n",
      "LSQR standard         : 1366\n",
      "LSRN LSQR             : 43\n"
     ]
    }
   ],
   "source": [
    "m = 1000   \n",
    "n = 10000  \n",
    "kappa = 1e9\n",
    "A = badly_conditioned_underdetermined_matrix(m, n, kappa)\n",
    "x_exact = randn(n)\n",
    "b = A * x_exact\n",
    "\n",
    "println(\"Conditionnement estimé (A*A') :\", cond(A * A'))\n",
    "\n",
    "# LSQR direct \n",
    "println(\"\\n--- LSQR standard (sous-déterminé) ---\")\n",
    "res1, hist1 = lsqr(A, b; atol=1e-10, btol=1e-10, itmax=2000, history=true)\n",
    "println(\"Itérations LSQR : \", hist1.niter)\n",
    "println(\"Résidu final LSQR : \", norm(A * res1 - b) / norm(b))\n",
    "\n",
    "# LSRN + LSQR\n",
    "println(\"\\n--- LSRN (LSQR, sous-déterminé) ---\")\n",
    "x_lsrn_lsqr, hist2 = lsrn_lsqr_underdetermined(A, b; gamma=2.0, tol=1e-10, itmax=2000)\n",
    "println(\"Itérations LSQR (LSRN) : \", hist2.niter)\n",
    "println(\"Résidu LSRN (LSQR) : \", norm(A * x_lsrn_lsqr - b) / norm(b))\n",
    "\n",
    "\n",
    "\n",
    "println(\"\\n--- Résumé du nombre d'itérations ---\")\n",
    "println(\"LSQR standard         : $(hist1.niter)\")\n",
    "println(\"LSRN LSQR             : $(hist2.niter)\")"
   ]
  },
  {
   "cell_type": "markdown",
   "id": "355e963e",
   "metadata": {},
   "source": [
    "### CODE NON TERMINÉ OU NON UTILISÉ"
   ]
  },
  {
   "cell_type": "code",
   "execution_count": 17,
   "id": "06442c9d",
   "metadata": {},
   "outputs": [
    {
     "data": {
      "text/plain": [
       "lsrn_lsmr (generic function with 1 method)"
      ]
     },
     "execution_count": 17,
     "metadata": {},
     "output_type": "execute_result"
    }
   ],
   "source": [
    "function lsrn_lsmr(A, b; gamma=2.0, tol=1e-10, itmax=2000)\n",
    "    m, n = size(A)\n",
    "    s = ceil(Int, gamma * n) \n",
    "\n",
    "    G = randn(s, m)\n",
    "\n",
    "    Ã = G * A\n",
    "\n",
    "    Ũ, Σ̃, Ṽ = svd(Ã; full=false)\n",
    "    r = sum(Σ̃.> 1e-12)\n",
    "\n",
    "    Σinv = Diagonal(1.0 ./ Σ̃[1:r])\n",
    "    V_r = Ṽ[:,1:r]\n",
    "    N = V_r * Σinv\n",
    "\n",
    "    AN = A * N\n",
    "    ŷ, histo = lsmr(AN, b; atol=tol, btol=tol, itmax=itmax, history=true)\n",
    "\n",
    "    x̂ = N * ŷ\n",
    "    return x̂, histo\n",
    "end"
   ]
  },
  {
   "cell_type": "code",
   "execution_count": null,
   "id": "155e82e4",
   "metadata": {},
   "outputs": [],
   "source": [
    "@benchmark lsrn_lsmr(A, b; gamma=2.0, tol=1e-10, itmax=2000) "
   ]
  },
  {
   "cell_type": "code",
   "execution_count": null,
   "id": "0b01a5b3",
   "metadata": {},
   "outputs": [],
   "source": [
    "BLAS.set_num_threads(1)"
   ]
  },
  {
   "cell_type": "code",
   "execution_count": null,
   "id": "df387987",
   "metadata": {},
   "outputs": [],
   "source": [
    "function lsrn_cg(A, b; gamma=2.0, tol=1e-10, itmax=2000)\n",
    "    m, n = size(A)\n",
    "    s = ceil(Int, gamma * n)\n",
    "    G = randn(s, m)\n",
    "    Ã = G * A\n",
    "\n",
    "    # SVD compacte\n",
    "    Ũ, Σ̃, Ṽ = svd(Ã; full=false)\n",
    "    r = sum(Σ̃ .> 1e-12)\n",
    "    Σinv = Diagonal(1.0 ./ Σ̃[1:r])\n",
    "    V_r = Ṽ[:,1:r]\n",
    "    N = V_r * Σinv\n",
    "\n",
    "    # Forme normale\n",
    "    AN = A * N\n",
    "    AtAN = AN' * AN\n",
    "    AtbN = AN' * b\n",
    "\n",
    "    # Résoudre par CG\n",
    "    ŷ, histo = cg(AtAN, AtbN; atol=tol, rtol=tol, itmax=itmax, history=true)\n",
    "\n",
    "    # Reconstruire la solution min-norme\n",
    "    x̂ = N * ŷ\n",
    "    return x̂, histo\n",
    "end"
   ]
  },
  {
   "cell_type": "code",
   "execution_count": null,
   "id": "7baf3f7f",
   "metadata": {},
   "outputs": [],
   "source": [
    "function lsrn_lsqr_parallel(A, b; gamma=2.0, tol=1e-10, itmax=2000)\n",
    "    m, n = size(A)\n",
    "    s = ceil(Int, gamma * n)\n",
    "    G = randn(s, m)\n",
    "\n",
    "    B = zeros(s, n)\n",
    "\n",
    "    nthreads = Threads.nthreads()\n",
    "    blocksize = ceil(Int, s / nthreads)\n",
    "\n",
    "    Threads.@threads for t = 1:nthreads\n",
    "        i1 = (t-1)*blocksize + 1\n",
    "        i2 = min(t*blocksize, s)\n",
    "        if i1 <= i2 \n",
    "            B[i1:i2, :] .= G[i1:i2, :] * A\n",
    "        end\n",
    "    end\n",
    "\n",
    "    Ũ, Σ̃, Ṽ = svd(B; full=false)\n",
    "    r = sum(Σ̃ .> 1e-12)\n",
    "    Σinv = Diagonal(1.0 ./ Σ̃[1:r])\n",
    "    V_r = Ṽ[:, 1:r]\n",
    "    N = V_r * Σinv\n",
    "\n",
    "    AN = A * N\n",
    "    ŷ, histo = lsqr(AN, b; atol=tol, btol=tol, itmax=itmax, history=true)\n",
    "\n",
    "    x̂ = N * ŷ\n",
    "    return x̂, histo\n",
    "end"
   ]
  }
 ],
 "metadata": {
  "kernelspec": {
   "display_name": "Julia 1.11.2",
   "language": "julia",
   "name": "julia-1.11"
  },
  "language_info": {
   "file_extension": ".jl",
   "mimetype": "application/julia",
   "name": "julia",
   "version": "1.11.2"
  }
 },
 "nbformat": 4,
 "nbformat_minor": 5
}
