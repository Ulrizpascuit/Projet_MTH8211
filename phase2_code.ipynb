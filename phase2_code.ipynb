{
 "cells": [
  {
   "cell_type": "code",
   "execution_count": 2,
   "id": "061e910e",
   "metadata": {},
   "outputs": [
    {
     "name": "stderr",
     "output_type": "stream",
     "text": [
      "\u001b[32m\u001b[1m  Activating\u001b[22m\u001b[39m project at `c:\\Users\\ulric\\Projet_MTH8211\\Phase2_projet`\n",
      "\u001b[32m\u001b[1m   Resolving\u001b[22m\u001b[39m package versions...\n",
      "\u001b[32m\u001b[1m  No Changes\u001b[22m\u001b[39m to `C:\\Users\\ulric\\Projet_MTH8211\\Phase2_projet\\Project.toml`\n",
      "\u001b[32m\u001b[1m  No Changes\u001b[22m\u001b[39m to `C:\\Users\\ulric\\Projet_MTH8211\\Phase2_projet\\Manifest.toml`\n"
     ]
    }
   ],
   "source": [
    "using Pkg\n",
    "Pkg.activate(\"Phase2_projet\")\n",
    "Pkg.add([\"LinearAlgebra\", \"SparseArrays\", \"Krylov\", \"BenchmarkTools\", \"SuiteSparseMatrixCollection\"])\n",
    "using LinearAlgebra, SparseArrays, Krylov, BenchmarkTools, SuiteSparseMatrixCollection"
   ]
  },
  {
   "cell_type": "code",
   "execution_count": 3,
   "id": "0e67f854",
   "metadata": {},
   "outputs": [
    {
     "data": {
      "text/plain": [
       "LSRN (generic function with 1 method)"
      ]
     },
     "metadata": {},
     "output_type": "display_data"
    }
   ],
   "source": [
    "function LSRN(A, b; γ=2.0, tol=1e-12, maxiter=500)\n",
    "    m, n = size(A)\n",
    "    l = ceil(Int, γ * min(m, n))\n",
    "\n",
    "    if m >= n\n",
    "        G = randn(l, m) \n",
    "        B = G * A \n",
    "\n",
    "        F = qr(B, Val(true))\n",
    "        R = F.R\n",
    "\n",
    "        M = inv(R)\n",
    "        A_precond = A * M\n",
    "        result = lsqr(A_precond, b; atol=tol, btol=tol, itmax=maxiter)\n",
    "        x = M * result[1]\n",
    "\n",
    "    else\n",
    "        G = randn(l, n)\n",
    "        B = A * G'\n",
    "\n",
    "        F = qr(B, Val(true))\n",
    "        R = F.R\n",
    "\n",
    "        M = inv(R)\n",
    "        A_precond = M' * A\n",
    "        b_precond = M' * b\n",
    "        result = lsqr(A_precond, b_precond; atol=tol, btol=tol, itmax=maxiter)\n",
    "        x = result[1]\n",
    "    end\n",
    "\n",
    "    return x\n",
    "end"
   ]
  },
  {
   "cell_type": "code",
   "execution_count": 5,
   "id": "a110e58b",
   "metadata": {},
   "outputs": [
    {
     "data": {
      "text/plain": [
       "1000000-element Vector{Float64}:\n",
       "  0.5518092654139687\n",
       " -1.331605506107442\n",
       "  1.4850393567144768\n",
       "  0.2461245300175366\n",
       " -0.40841880108489476\n",
       " -0.2541939338789641\n",
       "  0.6775759354785287\n",
       "  0.6297045323849735\n",
       " -2.2511068074838056\n",
       "  1.2241502504694086\n",
       "  ⋮\n",
       " -0.738508687073445\n",
       "  0.7914936054199732\n",
       "  0.3347639909014591\n",
       " -0.33305818359196304\n",
       "  0.7797895463163146\n",
       "  0.766377776611955\n",
       " -0.5502177028486346\n",
       " -0.5308026510331171\n",
       "  0.2035859345484013"
      ]
     },
     "metadata": {},
     "output_type": "display_data"
    }
   ],
   "source": [
    "m, n = 1000000, 1000\n",
    "A_dense = randn(m, n)\n",
    "b_dense = randn(m)"
   ]
  },
  {
   "cell_type": "code",
   "execution_count": 6,
   "id": "973b9c11",
   "metadata": {},
   "outputs": [
    {
     "name": "stdout",
     "output_type": "stream",
     "text": [
      "Résiduelle relative (dense) : 0.9995072739738944\n"
     ]
    },
    {
     "data": {
      "text/plain": [
       "BenchmarkTools.Trial: 42 samples with 1 evaluation per sample.\n",
       " Range \u001b[90m(\u001b[39m\u001b[36m\u001b[1mmin\u001b[22m\u001b[39m … \u001b[35mmax\u001b[39m\u001b[90m):  \u001b[39m\u001b[36m\u001b[1m111.887 ms\u001b[22m\u001b[39m … \u001b[35m130.709 ms\u001b[39m  \u001b[90m┊\u001b[39m GC \u001b[90m(\u001b[39mmin … max\u001b[90m): \u001b[39m0.00% … 13.48%\n",
       " Time  \u001b[90m(\u001b[39m\u001b[34m\u001b[1mmedian\u001b[22m\u001b[39m\u001b[90m):     \u001b[39m\u001b[34m\u001b[1m118.669 ms               \u001b[22m\u001b[39m\u001b[90m┊\u001b[39m GC \u001b[90m(\u001b[39mmedian\u001b[90m):    \u001b[39m0.00%\n",
       " Time  \u001b[90m(\u001b[39m\u001b[32m\u001b[1mmean\u001b[22m\u001b[39m ± \u001b[32mσ\u001b[39m\u001b[90m):   \u001b[39m\u001b[32m\u001b[1m118.856 ms\u001b[22m\u001b[39m ± \u001b[32m  4.071 ms\u001b[39m  \u001b[90m┊\u001b[39m GC \u001b[90m(\u001b[39mmean ± σ\u001b[90m):  \u001b[39m0.35% ±  2.08%\n",
       "\n",
       "  \u001b[39m \u001b[39m \u001b[39m \u001b[39m \u001b[39m \u001b[39m \u001b[39m \u001b[39m▁\u001b[39m▁\u001b[39m \u001b[39m \u001b[39m \u001b[39m \u001b[39m \u001b[39m \u001b[39m▁\u001b[39m \u001b[39m▄\u001b[39m \u001b[39m \u001b[39m \u001b[39m█\u001b[34m█\u001b[39m\u001b[32m▁\u001b[39m\u001b[39m \u001b[39m \u001b[39m█\u001b[39m \u001b[39m▁\u001b[39m \u001b[39m \u001b[39m \u001b[39m \u001b[39m▁\u001b[39m \u001b[39m \u001b[39m \u001b[39m \u001b[39m \u001b[39m \u001b[39m \u001b[39m \u001b[39m \u001b[39m \u001b[39m \u001b[39m \u001b[39m \u001b[39m \u001b[39m \u001b[39m \u001b[39m \u001b[39m \u001b[39m \u001b[39m \u001b[39m \u001b[39m \u001b[39m \u001b[39m \u001b[39m \u001b[39m \u001b[39m \u001b[39m \u001b[39m \n",
       "  \u001b[39m▆\u001b[39m▁\u001b[39m▁\u001b[39m▁\u001b[39m▆\u001b[39m▆\u001b[39m▆\u001b[39m█\u001b[39m█\u001b[39m▁\u001b[39m▁\u001b[39m▁\u001b[39m▆\u001b[39m▆\u001b[39m▆\u001b[39m█\u001b[39m▁\u001b[39m█\u001b[39m▁\u001b[39m▁\u001b[39m▆\u001b[39m█\u001b[34m█\u001b[39m\u001b[32m█\u001b[39m\u001b[39m▁\u001b[39m▆\u001b[39m█\u001b[39m▆\u001b[39m█\u001b[39m▁\u001b[39m▁\u001b[39m▁\u001b[39m▁\u001b[39m█\u001b[39m▁\u001b[39m▁\u001b[39m▁\u001b[39m▁\u001b[39m▁\u001b[39m▁\u001b[39m▁\u001b[39m▁\u001b[39m▆\u001b[39m▁\u001b[39m▆\u001b[39m▁\u001b[39m▁\u001b[39m▆\u001b[39m▁\u001b[39m▁\u001b[39m▁\u001b[39m▁\u001b[39m▁\u001b[39m▁\u001b[39m▆\u001b[39m▁\u001b[39m▁\u001b[39m▁\u001b[39m▁\u001b[39m▁\u001b[39m▆\u001b[39m \u001b[39m▁\n",
       "  112 ms\u001b[90m           Histogram: frequency by time\u001b[39m          131 ms \u001b[0m\u001b[1m<\u001b[22m\n",
       "\n",
       " Memory estimate\u001b[90m: \u001b[39m\u001b[33m15.26 MiB\u001b[39m, allocs estimate\u001b[90m: \u001b[39m\u001b[33m9\u001b[39m."
      ]
     },
     "metadata": {},
     "output_type": "display_data"
    }
   ],
   "source": [
    "x_dense = LSRN(A_dense, b_dense)\n",
    "\n",
    "residual_dense = norm(A_dense * x_dense - b_dense) / norm(b_dense)\n",
    "println(\"Résiduelle relative (dense) : \", residual_dense)\n",
    "@benchmark norm(A_dense * x_dense - b_dense) / norm(b_dense)"
   ]
  },
  {
   "cell_type": "code",
   "execution_count": 6,
   "id": "11e103e2",
   "metadata": {},
   "outputs": [
    {
     "name": "stdout",
     "output_type": "stream",
     "text": [
      "Nombre de threads actuellement activés : 1\n"
     ]
    }
   ],
   "source": [
    "println(\"Nombre de threads actuellement activés : \", Threads.nthreads())\n"
   ]
  },
  {
   "cell_type": "code",
   "execution_count": 5,
   "id": "7787c945",
   "metadata": {},
   "outputs": [
    {
     "data": {
      "text/plain": [
       "32"
      ]
     },
     "metadata": {},
     "output_type": "display_data"
    }
   ],
   "source": [
    "Sys.CPU_THREADS"
   ]
  },
  {
   "cell_type": "code",
   "execution_count": 7,
   "id": "9486f5ca",
   "metadata": {},
   "outputs": [
    {
     "name": "stderr",
     "output_type": "stream",
     "text": [
      "\u001b[32m\u001b[1m   Resolving\u001b[22m\u001b[39m package versions...\n",
      "\u001b[32m\u001b[1m  No Changes\u001b[22m\u001b[39m to `C:\\Users\\ulric\\Projet_MTH8211\\Phase2_projet\\Project.toml`\n",
      "\u001b[32m\u001b[1m  No Changes\u001b[22m\u001b[39m to `C:\\Users\\ulric\\Projet_MTH8211\\Phase2_projet\\Manifest.toml`\n"
     ]
    }
   ],
   "source": [
    "Pkg.add(\"MatrixMarket\")\n",
    "using MatrixMarket"
   ]
  },
  {
   "cell_type": "code",
   "execution_count": 8,
   "id": "2da19441",
   "metadata": {},
   "outputs": [],
   "source": [
    "using LinearAlgebra, SparseArrays, Krylov, Random"
   ]
  },
  {
   "cell_type": "code",
   "execution_count": 1,
   "id": "a246dca2",
   "metadata": {},
   "outputs": [
    {
     "ename": "UndefVarError",
     "evalue": "UndefVarError: `ssmc_db` not defined in `Main`\nSuggestion: check for spelling errors or missing imports.",
     "output_type": "error",
     "traceback": [
      "UndefVarError: `ssmc_db` not defined in `Main`\n",
      "Suggestion: check for spelling errors or missing imports.\n",
      "\n",
      "Stacktrace:\n",
      " [1] top-level scope\n",
      "   @ c:\\Users\\ulric\\Projet_MTH8211\\jl_notebook_cell_df34fa98e69747e1a8f8a730347b8e2f_X13sZmlsZQ==.jl:2"
     ]
    }
   ],
   "source": [
    "matrix_name = \"Ill_Stokes\"\n",
    "ssmc = ssmc_db()\n",
    "pb = ssmc_matrices(ssmc, \"\", matrix_name)\n",
    "fetch_ssmc(pb, format=\"MM\")\n",
    "pb_path = fetch_ssmc(pb, format=\"MM\")\n",
    "path_mtx = pb_path[1]\n",
    "A = MatrixMarket.mmread(joinpath(path_mtx, matrix_name * \".mtx\"));"
   ]
  },
  {
   "cell_type": "code",
   "execution_count": 9,
   "id": "09c9be42",
   "metadata": {},
   "outputs": [
    {
     "data": {
      "text/plain": [
       "badly_conditioned_rectangular_matrix (generic function with 1 method)"
      ]
     },
     "metadata": {},
     "output_type": "display_data"
    }
   ],
   "source": [
    "function badly_conditioned_rectangular_matrix(m, n, kappa)\n",
    "    # Crée deux matrices orthogonales (par QR)\n",
    "    U, _ = qr(randn(m, n))\n",
    "    V, _ = qr(randn(n, n))\n",
    "    # Valeurs singulières décroissantes : de 1 à 1/kappa\n",
    "    s = range(1.0, 1.0/kappa, length=n)\n",
    "    S = Diagonal(s)\n",
    "    A = U * S * V'\n",
    "    return Matrix(A)\n",
    "end"
   ]
  },
  {
   "cell_type": "code",
   "execution_count": 19,
   "id": "c264e4b3",
   "metadata": {},
   "outputs": [
    {
     "data": {
      "text/plain": [
       "100000-element Vector{Float64}:\n",
       " -0.0022069025718979146\n",
       " -0.08041589558137963\n",
       " -0.009935669284809977\n",
       "  0.008714032646609478\n",
       " -0.03376369942922331\n",
       " -0.037673745881073764\n",
       "  0.07312980570229634\n",
       " -0.029047427752332895\n",
       " -0.02679194453462201\n",
       " -0.10092243868326434\n",
       "  ⋮\n",
       "  0.08275861522380402\n",
       "  0.08126312994771755\n",
       " -0.0833978497076696\n",
       "  0.02215145202673785\n",
       "  0.02196005919124894\n",
       "  0.06616497383546587\n",
       "  0.03513834298211814\n",
       "  0.0006473411808994192\n",
       "  0.08384294850857575"
      ]
     },
     "metadata": {},
     "output_type": "display_data"
    }
   ],
   "source": [
    "m = 100000\n",
    "n = 1000\n",
    "kappa = 1e4\n",
    "A = badly_conditioned_rectangular_matrix(m, n, kappa)\n",
    "x = randn(n)\n",
    "b = A * x"
   ]
  },
  {
   "cell_type": "code",
   "execution_count": 20,
   "id": "16d34d5e",
   "metadata": {},
   "outputs": [
    {
     "name": "stdout",
     "output_type": "stream",
     "text": [
      "Conditionnement de A :10000.000000001144\n"
     ]
    }
   ],
   "source": [
    "println(\"Conditionnement de A :\", cond(A))"
   ]
  },
  {
   "cell_type": "code",
   "execution_count": null,
   "id": "a97012f8",
   "metadata": {},
   "outputs": [
    {
     "data": {
      "text/plain": [
       "lsrn_lsqr (generic function with 1 method)"
      ]
     },
     "metadata": {},
     "output_type": "display_data"
    }
   ],
   "source": [
    "function lsrn_lsqr(A, b; gamma=2.0, tol=1e-10, itmax=2000)\n",
    "    m, n = size(A)\n",
    "    s = ceil(Int, gamma * n) \n",
    "\n",
    "    G = randn(s, m)\n",
    "\n",
    "    Ã = G * A\n",
    "\n",
    "    Ũ, Σ̃, Ṽ = svd(Ã; full=false)\n",
    "    r = sum(Σ̃ .> 1e-12)\n",
    "\n",
    "    Σinv = Diagonal(1.0 ./ Σ̃[1:r])\n",
    "    V_r = Ṽ[:,1:r]\n",
    "    N = V_r * Σinv\n",
    "\n",
    "    AN = A * N\n",
    "    ŷ, histo = lsqr(AN, b; atol=tol, btol=tol, itmax=itmax, history=true)\n",
    "\n",
    "    x̂ = N * ŷ\n",
    "    return x̂, histo\n",
    "end"
   ]
  },
  {
   "cell_type": "code",
   "execution_count": 33,
   "id": "cc949e97",
   "metadata": {},
   "outputs": [
    {
     "data": {
      "text/plain": [
       "lsrn_cg (generic function with 1 method)"
      ]
     },
     "metadata": {},
     "output_type": "display_data"
    }
   ],
   "source": [
    "function lsrn_cg(A, b; gamma=2.0, tol=1e-10, itmax=2000)\n",
    "    m, n = size(A)\n",
    "    s = ceil(Int, gamma * n)\n",
    "    G = randn(s, m)\n",
    "    Ã = G * A\n",
    "\n",
    "    # SVD compacte\n",
    "    Ũ, Σ̃, Ṽ = svd(Ã; full=false)\n",
    "    r = sum(Σ̃ .> 1e-12)\n",
    "    Σinv = Diagonal(1.0 ./ Σ̃[1:r])\n",
    "    V_r = Ṽ[:,1:r]\n",
    "    N = V_r * Σinv\n",
    "\n",
    "    # Forme normale\n",
    "    AN = A * N\n",
    "    AtAN = AN' * AN\n",
    "    AtbN = AN' * b\n",
    "\n",
    "    # Résoudre par CG\n",
    "    ŷ, histo = cg(AtAN, AtbN; atol=tol, rtol=tol, itmax=itmax, history=true)\n",
    "\n",
    "    # Reconstruire la solution min-norme\n",
    "    x̂ = N * ŷ\n",
    "    return x̂, histo\n",
    "end"
   ]
  },
  {
   "cell_type": "code",
   "execution_count": null,
   "id": "9d2a9d60",
   "metadata": {},
   "outputs": [
    {
     "name": "stdout",
     "output_type": "stream",
     "text": [
      "\n",
      "--- LSQR sans préconditionneur ---\n",
      "Itérations LSQR (sans préc)      : 1509\n",
      "Résidu final LSQR (sans préc)    : 5.482107284955318e-6\n",
      "\n",
      "--- CG sur système normal (sans préc) ---\n",
      "Itérations CG (sans préc)        : 1547\n",
      "Résidu final CG (sans préc)      : 9.835692754484811e-11\n",
      "\n",
      "--- Construction du préconditionneur LSRN ---\n",
      "\n",
      "--- LSQR avec préconditionneur LSRN ---\n",
      "Itérations LSQR (LSRN)           : 42\n",
      "Résidu final LSQR (LSRN)         : 2.2110965807978267e-7\n",
      "\n",
      "--- CG sur système normal préconditionné (LSRN) ---\n",
      "Itérations CG (LSRN)             : 60\n",
      "Résidu final CG (LSRN)           : 2.3135340989337673e-10\n",
      "\n",
      "--- Résumé du nombre d'itérations ---\n",
      "LSQR sans préc           : 1509\n",
      "LSQR avec préc LSRN      : 42\n",
      "CG sans préc             : 1547\n",
      "CG avec préc LSRN        : 60\n"
     ]
    }
   ],
   "source": [
    "\n",
    "# LSQR \n",
    "println(\"\\n--- LSQR sans préconditionneur ---\")\n",
    "res1, hist1 = lsqr(A, b; atol=1e-10, btol=1e-10, itmax=2000, history=true)\n",
    "println(\"Itérations LSQR (sans préc)      : \", hist1.niter)\n",
    "println(\"Résidu final LSQR (sans préc)    : \", norm(A * res1 - b) / norm(b))\n",
    "\n",
    "# CG \n",
    "println(\"\\n--- CG sur système normal (sans préc) ---\")\n",
    "AtA = A' * A\n",
    "Atb = A' * b\n",
    "res2, hist2 = cg(AtA, Atb; atol=1e-10, rtol=1e-10, itmax=2000, history=true)\n",
    "println(\"Itérations CG (sans préc)        : \", hist2.niter)\n",
    "println(\"Résidu final CG (sans préc)      : \", norm(AtA * res2 - Atb) / norm(Atb))\n",
    "\n",
    "#LSRN\n",
    "println(\"\\n--- Construction du préconditionneur LSRN ---\")\n",
    "γ = 3.0\n",
    "l = ceil(Int, γ * min(m, n))\n",
    "G = randn(l, m)\n",
    "B = G * A\n",
    "F = qr(B, Val(true))\n",
    "R = F.R\n",
    "M = inv(R)\n",
    "\n",
    "#lsqr-lsrn\n",
    "println(\"\\n--- LSQR avec préconditionneur LSRN ---\")\n",
    "x_prec, hist3 = lsrn_lsqr(A, b; gamma=2.0, tol=1e-10, itmax=2000)\n",
    "println(\"Itérations LSQR (LSRN)           : \", hist3.niter)\n",
    "println(\"Résidu final LSQR (LSRN)         : \", norm(A * x_prec - b) / norm(b))\n",
    "\n",
    "#cg-lsrn\n",
    "println(\"\\n--- CG sur système normal préconditionné (LSRN) ---\")\n",
    "AtA_prec = A_prec' * A_prec\n",
    "Atb_prec = A_prec' * b\n",
    "#res4, hist4 = cg(AtA_prec, Atb_prec; atol=1e-10, rtol=1e-10, itmax=2000, history=true)\n",
    "x_cg_prec, hist4 = lsrn_cg(A, b; gamma=2.0, tol=1e-10, itmax=2000)\n",
    "println(\"Itérations CG (LSRN)             : \", hist4.niter)\n",
    "println(\"Résidu final CG (LSRN)           : \", norm(A * x_cg_prec - b) / norm(b))\n",
    "\n",
    "println(\"\\n--- Résumé du nombre d'itérations ---\")\n",
    "println(\"LSQR sans préc           : $(hist1.niter)\")\n",
    "println(\"LSQR avec préc LSRN      : $(hist3.niter)\")\n",
    "println(\"CG sans préc             : $(hist2.niter)\")\n",
    "println(\"CG avec préc LSRN        : $(hist4.niter)\")\n"
   ]
  }
 ],
 "metadata": {
  "kernelspec": {
   "display_name": "Julia 1.11.2",
   "language": "julia",
   "name": "julia-1.11"
  },
  "language_info": {
   "file_extension": ".jl",
   "mimetype": "application/julia",
   "name": "julia",
   "version": "1.11.2"
  }
 },
 "nbformat": 4,
 "nbformat_minor": 5
}
