{
 "cells": [
  {
   "cell_type": "code",
   "execution_count": 1,
   "id": "061e910e",
   "metadata": {},
   "outputs": [
    {
     "name": "stderr",
     "output_type": "stream",
     "text": [
      "\u001b[32m\u001b[1m  Activating\u001b[22m\u001b[39m project at `c:\\Users\\ulric\\Projet_MTH8211\\Phase2_projet`\n",
      "\u001b[32m\u001b[1m   Resolving\u001b[22m\u001b[39m package versions...\n",
      "\u001b[32m\u001b[1m  No Changes\u001b[22m\u001b[39m to `C:\\Users\\ulric\\Projet_MTH8211\\Phase2_projet\\Project.toml`\n",
      "\u001b[32m\u001b[1m  No Changes\u001b[22m\u001b[39m to `C:\\Users\\ulric\\Projet_MTH8211\\Phase2_projet\\Manifest.toml`\n",
      "\u001b[36m\u001b[1m[ \u001b[22m\u001b[39m\u001b[36m\u001b[1mInfo: \u001b[22m\u001b[39mPrecompiling BenchmarkTools [6e4b80f9-dd63-53aa-95a3-0cdb28fa8baf] (cache misses: wrong dep version loaded (4))\n"
     ]
    }
   ],
   "source": [
    "using Pkg\n",
    "Pkg.activate(\"Phase2_projet\")\n",
    "Pkg.add([\"LinearAlgebra\", \"SparseArrays\", \"Krylov\", \"BenchmarkTools\", \"SuiteSparseMatrixCollection\", \"MatrixMarket\"])\n",
    "using LinearAlgebra, SparseArrays, Krylov, BenchmarkTools, SuiteSparseMatrixCollection, MatrixMarket, Random"
   ]
  },
  {
   "cell_type": "code",
   "execution_count": 2,
   "id": "11e103e2",
   "metadata": {},
   "outputs": [
    {
     "name": "stdout",
     "output_type": "stream",
     "text": [
      "Nombre de threads actuellement activés : 16\n"
     ]
    }
   ],
   "source": [
    "println(\"Nombre de threads actuellement activés : \", Threads.nthreads())"
   ]
  },
  {
   "cell_type": "code",
   "execution_count": 14,
   "id": "7787c945",
   "metadata": {},
   "outputs": [
    {
     "data": {
      "text/plain": [
       "badly_conditioned_rectangular_matrix (generic function with 1 method)"
      ]
     },
     "execution_count": 14,
     "metadata": {},
     "output_type": "execute_result"
    }
   ],
   "source": [
    "function badly_conditioned_rectangular_matrix(m, n, kappa)\n",
    "    U, _ = qr(randn(m, n))\n",
    "    V, _ = qr(randn(n, n))\n",
    "    s = range(1.0, 1.0/kappa, length=n)\n",
    "    S = Diagonal(s)\n",
    "    A = U * S * V'\n",
    "    return Matrix(A)\n",
    "end"
   ]
  },
  {
   "cell_type": "code",
   "execution_count": 15,
   "id": "d20b4878",
   "metadata": {},
   "outputs": [
    {
     "data": {
      "text/plain": [
       "badly_conditioned_underdetermined_matrix (generic function with 1 method)"
      ]
     },
     "execution_count": 15,
     "metadata": {},
     "output_type": "execute_result"
    }
   ],
   "source": [
    "function badly_conditioned_underdetermined_matrix(m, n, kappa)\n",
    "    U, _ = qr(randn(n, m))\n",
    "    V, _ = qr(randn(m, m))\n",
    "    s = range(1.0, 1.0 / kappa, length=m)\n",
    "    S = Diagonal(s)\n",
    "    A_tall = U * S * V'\n",
    "    return Matrix(A_tall')[1:m, 1:n]\n",
    "end"
   ]
  },
  {
   "cell_type": "code",
   "execution_count": 7,
   "id": "a97012f8",
   "metadata": {},
   "outputs": [
    {
     "data": {
      "text/plain": [
       "lsrn_lsqr (generic function with 1 method)"
      ]
     },
     "execution_count": 7,
     "metadata": {},
     "output_type": "execute_result"
    }
   ],
   "source": [
    "function lsrn_lsqr(A, b; gamma=2.0, tol=1e-10, itmax=2000)\n",
    "    m, n = size(A)\n",
    "    s = ceil(Int, gamma * n) \n",
    "\n",
    "    G = randn(s, m)\n",
    "\n",
    "    Ã = G * A\n",
    "\n",
    "    Ũ, Σ̃, Ṽ = svd(Ã; full=false)\n",
    "    r = sum(Σ̃.> 1e-12)\n",
    "\n",
    "    Σinv = Diagonal(1.0 ./ Σ̃[1:r])\n",
    "    V_r = Ṽ[:,1:r]\n",
    "    N = V_r * Σinv\n",
    "\n",
    "    AN = A * N\n",
    "    ŷ, histo = lsqr(AN, b; atol=tol, btol=tol, itmax=itmax, history=true)\n",
    "\n",
    "    x̂ = N * ŷ\n",
    "    return x̂, histo\n",
    "end"
   ]
  },
  {
   "cell_type": "code",
   "execution_count": 10,
   "id": "a42d0aa3",
   "metadata": {},
   "outputs": [
    {
     "data": {
      "text/plain": [
       "lsrn_lsqr_underdetermined (generic function with 1 method)"
      ]
     },
     "execution_count": 10,
     "metadata": {},
     "output_type": "execute_result"
    }
   ],
   "source": [
    "function lsrn_lsqr_underdetermined(A, b; gamma=2.0, tol=1e-10, itmax=2000)\n",
    "    m, n = size(A)\n",
    "    s = ceil(Int, gamma * m)\n",
    "    G = randn(n, s)\n",
    "    Ã = A * G\n",
    "\n",
    "    Ũ, Σ̃, Ṽ = svd(Ã; full=false)\n",
    "    r = sum(Σ̃ .> 1e-12)\n",
    "    U_r = Ũ[:,1:r]\n",
    "    Σ_r = Σ̃[1:r]\n",
    "\n",
    "    Σinv = Diagonal(1.0 ./ Σ_r)\n",
    "    M = U_r * Σinv      \n",
    "\n",
    "    Mt = M'\n",
    "    At_pre = Mt * A    \n",
    "    bt_pre = Mt * b     \n",
    "\n",
    "    x̂, histo = lsqr(At_pre, bt_pre; atol=tol, btol=tol, itmax=itmax, history=true)\n",
    "\n",
    "    return x̂, histo\n",
    "end"
   ]
  },
  {
   "cell_type": "code",
   "execution_count": 25,
   "id": "cee31841",
   "metadata": {},
   "outputs": [
    {
     "name": "stdout",
     "output_type": "stream",
     "text": [
      "Conditionnement de A :9.999999996072491e8\n"
     ]
    }
   ],
   "source": [
    "m = 100000\n",
    "n = 1000\n",
    "kappa = 1e9\n",
    "A = badly_conditioned_rectangular_matrix(m, n, kappa)\n",
    "x = randn(n)\n",
    "b = A * x\n",
    "println(\"Conditionnement de A :\", cond(A))"
   ]
  },
  {
   "cell_type": "code",
   "execution_count": 13,
   "id": "47faf411",
   "metadata": {},
   "outputs": [
    {
     "data": {
      "text/plain": [
       "16"
      ]
     },
     "execution_count": 13,
     "metadata": {},
     "output_type": "execute_result"
    }
   ],
   "source": [
    "BLAS.get_num_threads()"
   ]
  },
  {
   "cell_type": "code",
   "execution_count": 26,
   "id": "ea081191",
   "metadata": {},
   "outputs": [
    {
     "data": {
      "text/plain": [
       "BenchmarkTools.Trial: 2 samples with 1 evaluation per sample.\n",
       " Range \u001b[90m(\u001b[39m\u001b[36m\u001b[1mmin\u001b[22m\u001b[39m … \u001b[35mmax\u001b[39m\u001b[90m):  \u001b[39m\u001b[36m\u001b[1m3.908 s\u001b[22m\u001b[39m … \u001b[35m   4.313 s\u001b[39m  \u001b[90m┊\u001b[39m GC \u001b[90m(\u001b[39mmin … max\u001b[90m): \u001b[39m1.03% … 1.77%\n",
       " Time  \u001b[90m(\u001b[39m\u001b[34m\u001b[1mmedian\u001b[22m\u001b[39m\u001b[90m):     \u001b[39m\u001b[34m\u001b[1m4.110 s               \u001b[22m\u001b[39m\u001b[90m┊\u001b[39m GC \u001b[90m(\u001b[39mmedian\u001b[90m):    \u001b[39m1.42%\n",
       " Time  \u001b[90m(\u001b[39m\u001b[32m\u001b[1mmean\u001b[22m\u001b[39m ± \u001b[32mσ\u001b[39m\u001b[90m):   \u001b[39m\u001b[32m\u001b[1m4.110 s\u001b[22m\u001b[39m ± \u001b[32m286.480 ms\u001b[39m  \u001b[90m┊\u001b[39m GC \u001b[90m(\u001b[39mmean ± σ\u001b[90m):  \u001b[39m1.42% ± 0.52%\n",
       "\n",
       "  \u001b[34m█\u001b[39m\u001b[39m \u001b[39m \u001b[39m \u001b[39m \u001b[39m \u001b[39m \u001b[39m \u001b[39m \u001b[39m \u001b[39m \u001b[39m \u001b[39m \u001b[39m \u001b[39m \u001b[39m \u001b[39m \u001b[39m \u001b[39m \u001b[39m \u001b[39m \u001b[39m \u001b[39m \u001b[39m \u001b[39m \u001b[39m \u001b[39m \u001b[39m \u001b[39m \u001b[32m \u001b[39m\u001b[39m \u001b[39m \u001b[39m \u001b[39m \u001b[39m \u001b[39m \u001b[39m \u001b[39m \u001b[39m \u001b[39m \u001b[39m \u001b[39m \u001b[39m \u001b[39m \u001b[39m \u001b[39m \u001b[39m \u001b[39m \u001b[39m \u001b[39m \u001b[39m \u001b[39m \u001b[39m \u001b[39m \u001b[39m \u001b[39m \u001b[39m \u001b[39m█\u001b[39m \u001b[39m \n",
       "  \u001b[34m█\u001b[39m\u001b[39m▁\u001b[39m▁\u001b[39m▁\u001b[39m▁\u001b[39m▁\u001b[39m▁\u001b[39m▁\u001b[39m▁\u001b[39m▁\u001b[39m▁\u001b[39m▁\u001b[39m▁\u001b[39m▁\u001b[39m▁\u001b[39m▁\u001b[39m▁\u001b[39m▁\u001b[39m▁\u001b[39m▁\u001b[39m▁\u001b[39m▁\u001b[39m▁\u001b[39m▁\u001b[39m▁\u001b[39m▁\u001b[39m▁\u001b[39m▁\u001b[39m▁\u001b[32m▁\u001b[39m\u001b[39m▁\u001b[39m▁\u001b[39m▁\u001b[39m▁\u001b[39m▁\u001b[39m▁\u001b[39m▁\u001b[39m▁\u001b[39m▁\u001b[39m▁\u001b[39m▁\u001b[39m▁\u001b[39m▁\u001b[39m▁\u001b[39m▁\u001b[39m▁\u001b[39m▁\u001b[39m▁\u001b[39m▁\u001b[39m▁\u001b[39m▁\u001b[39m▁\u001b[39m▁\u001b[39m▁\u001b[39m▁\u001b[39m▁\u001b[39m▁\u001b[39m█\u001b[39m \u001b[39m▁\n",
       "  3.91 s\u001b[90m         Histogram: frequency by time\u001b[39m         4.31 s \u001b[0m\u001b[1m<\u001b[22m\n",
       "\n",
       " Memory estimate\u001b[90m: \u001b[39m\u001b[33m2.33 GiB\u001b[39m, allocs estimate\u001b[90m: \u001b[39m\u001b[33m79\u001b[39m."
      ]
     },
     "execution_count": 26,
     "metadata": {},
     "output_type": "execute_result"
    }
   ],
   "source": [
    "@benchmark lsrn_lsqr(A, b; gamma=2.0, tol=1e-10, itmax=2000) "
   ]
  },
  {
   "cell_type": "code",
   "execution_count": 27,
   "id": "3ccccf59",
   "metadata": {},
   "outputs": [
    {
     "data": {
      "text/plain": [
       "BenchmarkTools.Trial: 1 sample with 1 evaluation per sample.\n",
       " Single result which took \u001b[34m34.445 s\u001b[39m (0.00% GC) to evaluate,\n",
       " with a memory estimate of \u001b[33m1.60 MiB\u001b[39m, over \u001b[33m42\u001b[39m allocations."
      ]
     },
     "execution_count": 27,
     "metadata": {},
     "output_type": "execute_result"
    }
   ],
   "source": [
    "@benchmark lsqr(A, b; atol=1e-10, btol=1e-10, itmax=2000, history=true)"
   ]
  },
  {
   "cell_type": "code",
   "execution_count": 29,
   "id": "9d2a9d60",
   "metadata": {},
   "outputs": [
    {
     "name": "stdout",
     "output_type": "stream",
     "text": [
      "\n",
      "--- LSQR sans préconditionneur ---\n",
      "Itérations LSQR (sans préc)      : 1501\n",
      "Résidu final LSQR (sans préc)    : 3.4338826909057485e-7\n",
      "\n",
      "--- LSQR avec préconditionneur LSRN ---\n",
      "Itérations LSQR (LSRN)           : 43\n",
      "Résidu final LSQR (LSRN)         : 1.7620724051574278e-7\n",
      "\n",
      "--- Résumé du nombre d'itérations ---\n",
      "LSQR sans préc           : 1501\n",
      "LSQR avec préc LSRN      : 43\n"
     ]
    }
   ],
   "source": [
    "# LSQR \n",
    "println(\"\\n--- LSQR sans préconditionneur ---\")\n",
    "res1, hist1 = lsqr(A, b; atol=1e-10, btol=1e-10, itmax=2000, history=true)\n",
    "println(\"Itérations LSQR (sans préc)      : \", hist1.niter)\n",
    "println(\"Résidu final LSQR (sans préc)    : \", norm(A * res1 - b) / norm(b))\n",
    "\n",
    "#lsqr-lsrn\n",
    "println(\"\\n--- LSQR avec préconditionneur LSRN ---\")\n",
    "x_prec, hist2 = lsrn_lsqr(A, b; gamma=2.0, tol=1e-10, itmax=2000)\n",
    "println(\"Itérations LSQR (LSRN)           : \", hist2.niter)\n",
    "println(\"Résidu final LSQR (LSRN)         : \", norm(A * x_prec - b) / norm(b))\n",
    "\n",
    "println(\"\\n--- Résumé du nombre d'itérations ---\")\n",
    "println(\"LSQR sans préc           : $(hist1.niter)\")\n",
    "println(\"LSQR avec préc LSRN      : $(hist2.niter)\")\n"
   ]
  },
  {
   "cell_type": "code",
   "execution_count": null,
   "id": "90e93955",
   "metadata": {},
   "outputs": [
    {
     "name": "stdout",
     "output_type": "stream",
     "text": [
      "Conditionnement estimé (A*A') :1.1271368085804024e17\n",
      "\n",
      "--- LSQR standard (sous-déterminé) ---\n",
      "Itérations LSQR : 1491\n",
      "Résidu final LSQR : 6.446143442607677e-7\n",
      "\n",
      "--- LSRN (LSQR, sous-déterminé) ---\n",
      "Itérations LSQR (LSRN) : 43\n",
      "Résidu LSRN (LSQR) : 2.354657661411113e-7\n",
      "\n",
      "--- Résumé du nombre d'itérations ---\n",
      "LSQR standard         : 1491\n",
      "CG standard           : 131\n",
      "LSRN LSQR             : 43\n",
      "LSRN CG               : 44\n"
     ]
    }
   ],
   "source": [
    "m = 1000   \n",
    "n = 10000  \n",
    "kappa = 1e9\n",
    "A = badly_conditioned_underdetermined_matrix(m, n, kappa)\n",
    "x_exact = randn(n)\n",
    "b = A * x_exact\n",
    "\n",
    "println(\"Conditionnement estimé (A*A') :\", cond(A * A'))\n",
    "\n",
    "# LSQR direct (va donner une solution quelconque, pas forcément de norme minimale)\n",
    "println(\"\\n--- LSQR standard (sous-déterminé) ---\")\n",
    "res1, hist1 = lsqr(A, b; atol=1e-10, btol=1e-10, itmax=2000, history=true)\n",
    "println(\"Itérations LSQR : \", hist1.niter)\n",
    "println(\"Résidu final LSQR : \", norm(A * res1 - b) / norm(b))\n",
    "\n",
    "# LSRN + LSQR\n",
    "println(\"\\n--- LSRN (LSQR, sous-déterminé) ---\")\n",
    "x_lsrn_lsqr, hist3 = lsrn_lsqr_underdetermined(A, b; gamma=2.0, tol=1e-10, itmax=2000)\n",
    "println(\"Itérations LSQR (LSRN) : \", hist2.niter)\n",
    "println(\"Résidu LSRN (LSQR) : \", norm(A * x_lsrn_lsqr - b) / norm(b))\n",
    "\n",
    "\n",
    "\n",
    "println(\"\\n--- Résumé du nombre d'itérations ---\")\n",
    "println(\"LSQR standard         : $(hist1.niter)\")\n",
    "println(\"LSRN LSQR             : $(hist2.niter)\")"
   ]
  },
  {
   "cell_type": "markdown",
   "id": "355e963e",
   "metadata": {},
   "source": [
    "### CODE NON TERMINÉ OU NON UTILISÉ"
   ]
  },
  {
   "cell_type": "code",
   "execution_count": null,
   "id": "0b01a5b3",
   "metadata": {},
   "outputs": [],
   "source": [
    "BLAS.set_num_threads(1)"
   ]
  },
  {
   "cell_type": "code",
   "execution_count": null,
   "id": "df387987",
   "metadata": {},
   "outputs": [],
   "source": [
    "function lsrn_cg(A, b; gamma=2.0, tol=1e-10, itmax=2000)\n",
    "    m, n = size(A)\n",
    "    s = ceil(Int, gamma * n)\n",
    "    G = randn(s, m)\n",
    "    Ã = G * A\n",
    "\n",
    "    # SVD compacte\n",
    "    Ũ, Σ̃, Ṽ = svd(Ã; full=false)\n",
    "    r = sum(Σ̃ .> 1e-12)\n",
    "    Σinv = Diagonal(1.0 ./ Σ̃[1:r])\n",
    "    V_r = Ṽ[:,1:r]\n",
    "    N = V_r * Σinv\n",
    "\n",
    "    # Forme normale\n",
    "    AN = A * N\n",
    "    AtAN = AN' * AN\n",
    "    AtbN = AN' * b\n",
    "\n",
    "    # Résoudre par CG\n",
    "    ŷ, histo = cg(AtAN, AtbN; atol=tol, rtol=tol, itmax=itmax, history=true)\n",
    "\n",
    "    # Reconstruire la solution min-norme\n",
    "    x̂ = N * ŷ\n",
    "    return x̂, histo\n",
    "end"
   ]
  },
  {
   "cell_type": "code",
   "execution_count": null,
   "id": "7baf3f7f",
   "metadata": {},
   "outputs": [],
   "source": [
    "function lsrn_lsqr_parallel(A, b; gamma=2.0, tol=1e-10, itmax=2000)\n",
    "    m, n = size(A)\n",
    "    s = ceil(Int, gamma * n)\n",
    "    G = randn(s, m)\n",
    "\n",
    "    B = zeros(s, n)\n",
    "\n",
    "    nthreads = Threads.nthreads()\n",
    "    blocksize = ceil(Int, s / nthreads)\n",
    "\n",
    "    Threads.@threads for t = 1:nthreads\n",
    "        i1 = (t-1)*blocksize + 1\n",
    "        i2 = min(t*blocksize, s)\n",
    "        if i1 <= i2 \n",
    "            B[i1:i2, :] .= G[i1:i2, :] * A\n",
    "        end\n",
    "    end\n",
    "\n",
    "    Ũ, Σ̃, Ṽ = svd(B; full=false)\n",
    "    r = sum(Σ̃ .> 1e-12)\n",
    "    Σinv = Diagonal(1.0 ./ Σ̃[1:r])\n",
    "    V_r = Ṽ[:, 1:r]\n",
    "    N = V_r * Σinv\n",
    "\n",
    "    AN = A * N\n",
    "    ŷ, histo = lsqr(AN, b; atol=tol, btol=tol, itmax=itmax, history=true)\n",
    "\n",
    "    x̂ = N * ŷ\n",
    "    return x̂, histo\n",
    "end"
   ]
  }
 ],
 "metadata": {
  "kernelspec": {
   "display_name": "Julia 1.11.2",
   "language": "julia",
   "name": "julia-1.11"
  },
  "language_info": {
   "file_extension": ".jl",
   "mimetype": "application/julia",
   "name": "julia",
   "version": "1.11.2"
  }
 },
 "nbformat": 4,
 "nbformat_minor": 5
}
